{
 "cells": [
  {
   "cell_type": "markdown",
   "id": "eb380f2e",
   "metadata": {},
   "source": [
    "#QNO.1 ANS :\n",
    "Statastics is the science of collecting , analysing and organising of huge data."
   ]
  },
  {
   "cell_type": "markdown",
   "id": "c4b7e175",
   "metadata": {},
   "source": [
    "#QNO.2 ANS:\n",
    "1.Descriptive statistics: It consists of organising and summarizing data.\n",
    "\n",
    "It is used as measure of central Tendency i.e. [mean,mode,median]\n",
    "Measure of Dispersion .[variance,standard deviation]\n",
    "Differnt type of Distribution of data.\n",
    "eg:Histogram , Pdf , Pmf\n",
    "\n",
    "Example : A company's HR department may use descriptive statastics to summarize the demographic characteristics of their employees such as age , gender , and education level.\n",
    "\n",
    "A researcher may use descriptive statistics to summarize the results of a survey, such as the average age of participants or the percentage of respondents who agreed or disagreed with a particular statement.\n",
    "\n",
    "2.Inferential statastics: It involves using sample data to make generalizations about a population. Inferential statistics allows us to draw conclusions and make predictions about a population based on a sample of data.\n",
    "\n",
    "example of this statastics is like that if you want to analysing that how many people vote to which party and then you create a group and them to whom you are voting and then we calculate from this data that which party will win the election.\n",
    "This is called Exist pole."
   ]
  },
  {
   "cell_type": "markdown",
   "id": "d74daddd",
   "metadata": {},
   "source": [
    "#QNO.3 ANS\n",
    "There are two types of Data .\n",
    "1.Quantative data: It is measured in only in numerical  value.\n",
    "There are two types of Quantative Data.\n",
    "1.Discrete data : this data is identify by whole number .\n",
    "eg: No. of bank Accounts.\n",
    "    No. of children in the family.\n",
    "2.Continuous data:  in this Any value like Height , Weight , Rainfall of data .\n",
    "\n",
    "2.Qualitative data: It is based on characteristic of data we can derive categorically.\n",
    "Two types of Qualitative data.\n",
    "1.Nominal data : Here we can say that category matter like Gender is male or female and Blood grop or Pincode.\n",
    "2.Ordinal data :here order of the value matter but value does not matter.\n",
    "like customer feedback Good , Bad , Beter"
   ]
  },
  {
   "cell_type": "markdown",
   "id": "d8408e20",
   "metadata": {},
   "source": [
    "#QNO.4 ANS:\n",
    "(i) ans:it is type of Qualitative data of ordinal data.\n",
    "(ii) ans : Qualitative data(nominal data)\n",
    "(iii) ans : Quantative data(contineous)\n",
    "(iv) ans :Quantative data(discrete)"
   ]
  },
  {
   "cell_type": "markdown",
   "id": "f018981a",
   "metadata": {},
   "source": [
    "#QNO.5 ANS \n",
    "Nominal: This level of measurement is used to categorize data into distinct groups or categories, without any inherent order or hierarchy.\n",
    "Example: Hair color (black, brown, blonde, red, etc.)\n",
    "\n",
    "Ordinal: This level of measurement is used to categorize data into distinct groups or categories, with an inherent order or hierarchy.\n",
    "Example: Educational degree (high school, associate's, bachelor's, master's, PhD)\n",
    "\n",
    "Interval: This level of measurement is used to measure data on a scale with equal intervals between each value, but without a true zero point.\n",
    "Example: Temperature measured in Celsius or Fahrenheit\n",
    "\n",
    "Ratio: This level of measurement is used to measure data on a scale with equal intervals between each value, with a true zero point.\n",
    "    Example: Height, weight, or distance"
   ]
  },
  {
   "cell_type": "markdown",
   "id": "1ae30dc5",
   "metadata": {},
   "source": [
    "#QNO.6 ANS\n",
    "It is important to understand the level of measurement when analyzing data because it determines the type of statistical analysis that can be performed on the data. For example, certain statistical tests can only be used with data at specific levels of measurement. Additionally, the level of measurement can affect the choice of summary statistics used to describe the data.\n",
    "\n",
    "For example, if the data is nominal, you cannot calculate"
   ]
  },
  {
   "cell_type": "markdown",
   "id": "221f5c89",
   "metadata": {},
   "source": [
    "#QNO.7 ANS\n",
    "Nominal data is differnt from Ordinal Data beacause in Nominal data Order does not matter like you have the given data and we have to categories gender male or female or colors this is nominal data but in Ordinal data Ranking is important , Order matter like in any flipcart product we have to determine customer feedback like it is in best category or it is in bad category or it is in better category. this is ordinal type  of data."
   ]
  },
  {
   "cell_type": "markdown",
   "id": "3d610c72",
   "metadata": {},
   "source": [
    "#QNO.8 ANS\n",
    " A box plot can be used to display data in terms of range. It displays the distribution of a dataset by showing the median, quartiles, and outliers. The box represents the middle 50% of the data, with the lower edge of the box representing the first quartile (25th percentile) and the upper edge representing the third quartile (75th percentile). The median is displayed as a line within the box, and any data points outside the whiskers are considered outliers."
   ]
  },
  {
   "cell_type": "markdown",
   "id": "825c4028",
   "metadata": {},
   "source": [
    "#QNO.9 ANS\n",
    "     Descriptive statistics refers to the analysis and summarization of data in order to describe its main features, such as central tendency and variability. This type of statistics is used to gain a general understanding of a dataset and to communicate its characteristics to others. For example, calculating the mean, median, and mode of a set of exam scores would be a form of descriptive statistics.\n",
    "\n",
    "Inferential statistics, on the other hand, involves making inferences about a larger population based on a sample of data. This type of statistics is used to draw conclusions about a population based on limited information, typically gathered through random sampling. For example, conducting a hypothesis test to determine if the mean exam score of a sample of students is significantly different from the mean exam score of the population would be a form of inferential statistics."
   ]
  },
  {
   "cell_type": "markdown",
   "id": "ba96a881",
   "metadata": {},
   "source": [
    "#QNO.10 ANS\n",
    " Measures of central tendency are used to describe the central or typical value of a dataset. Some common measures of central tendency include the mean, median, and mode.\n",
    "\n",
    "The mean is calculated by summing up all the values in the dataset and dividing by the total number of values. It is sensitive to extreme values and can be heavily influenced by outliers.\n",
    "\n",
    "The median is the middle value in a dataset when it is ordered from smallest to largest. It is not influenced by extreme values and is therefore a more robust measure of central tendency.\n",
    "\n",
    "The mode is the most frequent value in a dataset. It can be used to describe the most common value or category in a dataset.\n",
    "\n",
    "Measures of variability are used to describe the spread or dispersion of a dataset. Some common measures of variability include the range, variance, and standard deviation.\n",
    "\n",
    "The range is the difference between the largest and smallest values in a dataset. It provides a quick and simple measure of the spread of the data.\n",
    "\n",
    "The variance is a measure of how much the data deviates from the mean. It is calculated by taking the average of the squared differences between each data point and the mean.\n",
    "\n",
    "The standard deviation is the square root of the variance and is a commonly used measure of variability. It provides a measure of how much the data deviates from the mean in the same units as the original data."
   ]
  }
 ],
 "metadata": {
  "kernelspec": {
   "display_name": "Python 3 (ipykernel)",
   "language": "python",
   "name": "python3"
  },
  "language_info": {
   "codemirror_mode": {
    "name": "ipython",
    "version": 3
   },
   "file_extension": ".py",
   "mimetype": "text/x-python",
   "name": "python",
   "nbconvert_exporter": "python",
   "pygments_lexer": "ipython3",
   "version": "3.9.13"
  }
 },
 "nbformat": 4,
 "nbformat_minor": 5
}
